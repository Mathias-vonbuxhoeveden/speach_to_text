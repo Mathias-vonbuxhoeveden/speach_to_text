{
 "cells": [
  {
   "cell_type": "code",
   "execution_count": 1,
   "id": "9ec6c491-06ae-411d-8281-54e7dc3beaa4",
   "metadata": {},
   "outputs": [],
   "source": [
    "import pandas as pd\n",
    "from openai import OpenAI\n",
    "import os\n",
    "import yaml"
   ]
  },
  {
   "cell_type": "code",
   "execution_count": 6,
   "id": "62757202-a5c9-4b0d-bf78-7c19fc3f2f58",
   "metadata": {},
   "outputs": [],
   "source": [
    "#Load file\n",
    "\n",
    "audio_file = open(\"sample_data/Skjutbanevägen 1.m4a\", \"rb\")"
   ]
  },
  {
   "cell_type": "code",
   "execution_count": 11,
   "id": "9f2109ae-7ea0-4583-9558-e5dd0508162c",
   "metadata": {},
   "outputs": [],
   "source": [
    "client = OpenAI(api_key = os.environ['open_api_key'])\n",
    "transcription = client.audio.transcriptions.create(\n",
    "model=\"whisper-1\", \n",
    "file=audio_file\n",
    ")\n"
   ]
  },
  {
   "cell_type": "code",
   "execution_count": 13,
   "id": "c74da4f4-3620-464b-947d-098341fdad41",
   "metadata": {},
   "outputs": [
    {
     "data": {
      "text/plain": [
       "'... ... Säg det. Imorgon ska jag till H&M och köpa glass. Bra.'"
      ]
     },
     "execution_count": 13,
     "metadata": {},
     "output_type": "execute_result"
    }
   ],
   "source": [
    "transcription.text"
   ]
  },
  {
   "cell_type": "code",
   "execution_count": null,
   "id": "e3b69f52-47f3-467a-ac4d-5a17922a5401",
   "metadata": {},
   "outputs": [],
   "source": []
  },
  {
   "cell_type": "code",
   "execution_count": null,
   "id": "36c19632-7b05-4331-80f9-b6535e91ed75",
   "metadata": {},
   "outputs": [],
   "source": []
  }
 ],
 "metadata": {
  "kernelspec": {
   "display_name": "Python 3 (ipykernel)",
   "language": "python",
   "name": "python3"
  },
  "language_info": {
   "codemirror_mode": {
    "name": "ipython",
    "version": 3
   },
   "file_extension": ".py",
   "mimetype": "text/x-python",
   "name": "python",
   "nbconvert_exporter": "python",
   "pygments_lexer": "ipython3",
   "version": "3.12.3"
  }
 },
 "nbformat": 4,
 "nbformat_minor": 5
}
