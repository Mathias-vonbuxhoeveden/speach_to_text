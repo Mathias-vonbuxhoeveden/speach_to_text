{
 "cells": [
  {
   "cell_type": "code",
   "execution_count": 5,
   "id": "9ec6c491-06ae-411d-8281-54e7dc3beaa4",
   "metadata": {},
   "outputs": [],
   "source": [
    "import pandas as pd\n",
    "from openai import OpenAI\n",
    "import os\n",
    "import yaml"
   ]
  },
  {
   "cell_type": "code",
   "execution_count": 6,
   "id": "f5ee744a-440b-4e8f-946d-7b02ad6b6422",
   "metadata": {},
   "outputs": [],
   "source": [
    "with open('config.yaml', 'r') as file:\n",
    "    key_file = yaml.safe_load(file)\n",
    "open_ai_key = key_file['open_ai_key']"
   ]
  },
  {
   "cell_type": "code",
   "execution_count": null,
   "id": "301ba1ec-ed60-4619-80ff-51d7fa8eca1f",
   "metadata": {},
   "outputs": [],
   "source": []
  },
  {
   "cell_type": "code",
   "execution_count": null,
   "id": "538d30d5-aa6e-4ed1-bdd0-4c330015c33a",
   "metadata": {},
   "outputs": [],
   "source": []
  },
  {
   "cell_type": "code",
   "execution_count": null,
   "id": "62757202-a5c9-4b0d-bf78-7c19fc3f2f58",
   "metadata": {},
   "outputs": [],
   "source": []
  },
  {
   "cell_type": "code",
   "execution_count": null,
   "id": "9f2109ae-7ea0-4583-9558-e5dd0508162c",
   "metadata": {},
   "outputs": [],
   "source": []
  },
  {
   "cell_type": "code",
   "execution_count": null,
   "id": "0adc0b5f-1e7b-401f-9c0f-8d3ff0b114b1",
   "metadata": {},
   "outputs": [],
   "source": []
  }
 ],
 "metadata": {
  "kernelspec": {
   "display_name": "Python 3 (ipykernel)",
   "language": "python",
   "name": "python3"
  },
  "language_info": {
   "codemirror_mode": {
    "name": "ipython",
    "version": 3
   },
   "file_extension": ".py",
   "mimetype": "text/x-python",
   "name": "python",
   "nbconvert_exporter": "python",
   "pygments_lexer": "ipython3",
   "version": "3.12.3"
  }
 },
 "nbformat": 4,
 "nbformat_minor": 5
}
