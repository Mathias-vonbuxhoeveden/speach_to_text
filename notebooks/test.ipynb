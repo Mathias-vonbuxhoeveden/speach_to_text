{
 "cells": [
  {
   "cell_type": "code",
   "execution_count": null,
   "id": "9ec6c491-06ae-411d-8281-54e7dc3beaa4",
   "metadata": {},
   "outputs": [],
   "source": []
  }
 ],
 "metadata": {
  "kernelspec": {
   "display_name": "",
   "name": ""
  },
  "language_info": {
   "name": ""
  }
 },
 "nbformat": 4,
 "nbformat_minor": 5
}
